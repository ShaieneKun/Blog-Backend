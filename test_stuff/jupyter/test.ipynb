{
 "cells": [
  {
   "cell_type": "code",
   "execution_count": 25,
   "metadata": {},
   "outputs": [],
   "source": [
    "import requests\n",
    "from random import randint\n",
    "\n",
    "body: str = \"lorem ipsum\"\n",
    "\n",
    "def title():\n",
    "\ttitle_counter = randint(1, 1000)\n",
    "\treturn f\"title {title_counter}\""
   ]
  },
  {
   "cell_type": "code",
   "execution_count": 41,
   "metadata": {},
   "outputs": [
    {
     "name": "stdout",
     "output_type": "stream",
     "text": [
      "{\"id\":7,\"title\":\"Title created with PATCH Method\",\"body\":\"lorem ipsumdolor\",\"author\":1}\n"
     ]
    }
   ],
   "source": [
    "url: str = \"http://localhost:8000/api/articles/7/\"\n",
    "\n",
    "data: dict = {\n",
    "\t\"title\": \"Title created with PATCH Method\",\n",
    "}\n",
    "\n",
    "resp = requests.patch(url, data=data)\n",
    "\n",
    "print(resp.text)"
   ]
  }
 ],
 "metadata": {
  "interpreter": {
   "hash": "54312d8e35685353ec9dcaed1835ca0ecbb36ca0fde5c9a64db1739feb8f263f"
  },
  "kernelspec": {
   "display_name": "Python 3.10.0 64-bit ('venv': venv)",
   "name": "python3"
  },
  "language_info": {
   "codemirror_mode": {
    "name": "ipython",
    "version": 3
   },
   "file_extension": ".py",
   "mimetype": "text/x-python",
   "name": "python",
   "nbconvert_exporter": "python",
   "pygments_lexer": "ipython3",
   "version": "3.10.0"
  },
  "orig_nbformat": 4
 },
 "nbformat": 4,
 "nbformat_minor": 2
}
